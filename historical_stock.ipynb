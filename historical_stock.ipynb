{
 "cells": [
  {
   "cell_type": "code",
   "execution_count": 126,
   "metadata": {},
   "outputs": [],
   "source": [
    "import pandas as pd\n",
    "import numpy as np\n",
    "\n",
    "from bokeh.layouts import column\n",
    "from bokeh.models import ColumnDataSource, RangeTool\n",
    "from bokeh.plotting import figure, show\n",
    "#from bokeh.sampledata.stocks import AAPL\n",
    "days_per_year = 52 * 5"
   ]
  },
  {
   "cell_type": "code",
   "execution_count": 127,
   "metadata": {},
   "outputs": [
    {
     "name": "stdout",
     "output_type": "stream",
     "text": [
      "           Date      Open      High       Low     Close\n",
      "0    02/28/2023  3,977.19  3,997.50  3,968.98  3,970.15\n",
      "1    02/27/2023  3,992.36  4,018.05  3,973.55  3,982.24\n",
      "2    02/24/2023  3,973.24  3,978.25  3,943.08  3,970.04\n",
      "3    02/23/2023  4,018.60  4,028.30  3,969.19  4,012.32\n",
      "4    02/22/2023  4,001.83  4,017.37  3,976.90  3,991.05\n",
      "..          ...       ...       ...       ...       ...\n",
      "247  03/04/2022  4,342.12  4,342.12  4,284.98  4,328.87\n",
      "248  03/03/2022  4,401.31  4,416.78  4,345.56  4,363.49\n",
      "249  03/02/2022  4,322.56  4,401.48  4,322.56  4,386.54\n",
      "250  03/01/2022  4,363.14  4,378.45  4,279.54  4,306.26\n",
      "251  02/28/2022  4,354.17  4,388.84  4,315.12  4,373.94\n",
      "\n",
      "[252 rows x 5 columns]\n"
     ]
    }
   ],
   "source": [
    "kaggle_file = \"data/archive/ETFs/spy.us.txt\"\n",
    "other_file = \"data/Download Data - INDEX_US_S&P US_SPX.csv\"\n",
    "hist=pd.read_csv(other_file)\n",
    "print(hist)\n"
   ]
  },
  {
   "cell_type": "code",
   "execution_count": 128,
   "metadata": {},
   "outputs": [
    {
     "ename": "ValueError",
     "evalue": "Cannot create a NumPy datetime other than NaT with generic units",
     "output_type": "error",
     "traceback": [
      "\u001b[0;31m---------------------------------------------------------------------------\u001b[0m",
      "\u001b[0;31mValueError\u001b[0m                                Traceback (most recent call last)",
      "Cell \u001b[0;32mIn[128], line 1\u001b[0m\n\u001b[0;32m----> 1\u001b[0m dates \u001b[38;5;241m=\u001b[39m \u001b[43mnp\u001b[49m\u001b[38;5;241;43m.\u001b[39;49m\u001b[43marray\u001b[49m\u001b[43m(\u001b[49m\u001b[43mhist\u001b[49m\u001b[43m[\u001b[49m\u001b[38;5;124;43m'\u001b[39;49m\u001b[38;5;124;43mDate\u001b[39;49m\u001b[38;5;124;43m'\u001b[39;49m\u001b[43m]\u001b[49m\u001b[43m,\u001b[49m\u001b[43m \u001b[49m\u001b[43mdtype\u001b[49m\u001b[38;5;241;43m=\u001b[39;49m\u001b[43mnp\u001b[49m\u001b[38;5;241;43m.\u001b[39;49m\u001b[43mdatetime64\u001b[49m\u001b[43m)\u001b[49m\n\u001b[1;32m      2\u001b[0m date_close_lut \u001b[38;5;241m=\u001b[39m \u001b[38;5;28mdict\u001b[39m(date\u001b[38;5;241m=\u001b[39mdates, close\u001b[38;5;241m=\u001b[39mhist[\u001b[38;5;124m'\u001b[39m\u001b[38;5;124mClose\u001b[39m\u001b[38;5;124m'\u001b[39m])\n\u001b[1;32m      3\u001b[0m source \u001b[38;5;241m=\u001b[39m ColumnDataSource(data\u001b[38;5;241m=\u001b[39mdate_close_lut)\n",
      "\u001b[0;31mValueError\u001b[0m: Cannot create a NumPy datetime other than NaT with generic units"
     ]
    }
   ],
   "source": [
    "dates = np.array(hist['Date'], dtype=np.datetime64)\n",
    "date_close_lut = dict(date=dates, close=hist['Close'])\n",
    "source = ColumnDataSource(data=date_close_lut)\n",
    "\n",
    "p = figure(height=700,\n",
    "            width=1900, \n",
    "            tools=\"xpan\", \n",
    "            toolbar_location=None,\n",
    "            x_axis_type=\"datetime\", \n",
    "            x_axis_location=\"above\",\n",
    "           background_fill_color=\"#efefef\", \n",
    "           x_range=(dates[1500], dates[2500])\n",
    "           )\n",
    "\n",
    "p.line('date', 'close', source=source)\n",
    "p.yaxis.axis_label = 'Price'\n",
    "\n",
    "select = figure(\n",
    "    title=\"Drag the middle and edges of the selection box to change the range above\",\n",
    "    height=200,\n",
    "    width=1900,\n",
    "    y_range=p.y_range,\n",
    "    x_axis_type=\"datetime\",\n",
    "    y_axis_type=None,\n",
    "    tools=\"\",\n",
    "    toolbar_location=None,\n",
    "    background_fill_color=\"#efefef\"\n",
    ")\n",
    "\n",
    "range_tool = RangeTool(x_range=p.x_range)\n",
    "range_tool.overlay.fill_color = \"navy\"\n",
    "range_tool.overlay.fill_alpha = 0.2\n",
    "\n",
    "select.line('date', 'close', source=source)\n",
    "select.ygrid.grid_line_color = None\n",
    "select.add_tools(range_tool)\n",
    "select.toolbar.active_multi = range_tool\n",
    "\n"
   ]
  },
  {
   "cell_type": "code",
   "execution_count": null,
   "metadata": {},
   "outputs": [],
   "source": [
    "def future_below_yr(years, df):\n",
    "    # dataset_1 = \"%Y-%m-%d\"\n",
    "    td = years * days_per_year\n",
    "    return pd.DataFrame(\n",
    "            [\n",
    "                {\n",
    "                    \"date\": df['date'][i], \n",
    "                    \"close\": df['close'][i]\n",
    "                }\n",
    "                for i in range(len(df['date'])) \n",
    "                if df['close'][i] < df['close'][max(0.0, i-td)] \n",
    "            ]\n",
    "        )"
   ]
  },
  {
   "cell_type": "code",
   "execution_count": null,
   "metadata": {},
   "outputs": [],
   "source": [
    "years_set_back = 10\n",
    "p.circle(\n",
    "    'date', \n",
    "    'close', \n",
    "    source=future_below_yr(years_set_back, date_close_lut), \n",
    "    size=20, \n",
    "    color=\"red\", \n",
    "    alpha=0.1\n",
    ")\n",
    "print(type(hist))"
   ]
  },
  {
   "cell_type": "code",
   "execution_count": null,
   "metadata": {},
   "outputs": [],
   "source": [
    "show(column(p, select))"
   ]
  },
  {
   "cell_type": "code",
   "execution_count": null,
   "metadata": {},
   "outputs": [],
   "source": []
  },
  {
   "cell_type": "code",
   "execution_count": null,
   "metadata": {},
   "outputs": [],
   "source": []
  }
 ],
 "metadata": {
  "kernelspec": {
   "display_name": "finance-uVIUxuQB",
   "language": "python",
   "name": "python3"
  },
  "language_info": {
   "codemirror_mode": {
    "name": "ipython",
    "version": 3
   },
   "file_extension": ".py",
   "mimetype": "text/x-python",
   "name": "python",
   "nbconvert_exporter": "python",
   "pygments_lexer": "ipython3",
   "version": "3.11.1"
  },
  "vscode": {
   "interpreter": {
    "hash": "36b50b0d6dffaaf59d01bb8cc2b46a125d99ac05d3d1be9557fbb5ec8bf00478"
   }
  }
 },
 "nbformat": 4,
 "nbformat_minor": 4
}

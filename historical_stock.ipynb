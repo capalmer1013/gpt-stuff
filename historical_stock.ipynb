{
 "cells": [
  {
   "cell_type": "code",
   "execution_count": 1,
   "metadata": {},
   "outputs": [],
   "source": [
    "from datetime import date, timedelta as td\n",
    "\n",
    "import pandas as pd\n",
    "import numpy as np\n",
    "\n",
    "from bokeh.layouts import column\n",
    "from bokeh.models import ColumnDataSource, RangeTool\n",
    "from bokeh.plotting import figure, show\n",
    "#from bokeh.sampledata.stocks import AAPL\n",
    "days_per_year = 52 * 5"
   ]
  },
  {
   "cell_type": "code",
   "execution_count": 43,
   "metadata": {},
   "outputs": [
    {
     "name": "stdout",
     "output_type": "stream",
     "text": [
      "            Date    Open    High     Low   Close    Volume  OpenInt\n",
      "0     2005-02-25  104.77  106.00  104.68  105.79  70221808        0\n",
      "1     2005-02-28  105.55  105.68  104.56  105.08  79695344        0\n",
      "2     2005-03-01  105.22  105.87  105.22  105.62  54607412        0\n",
      "3     2005-03-02  105.21  106.22  105.10  105.57  73733090        0\n",
      "4     2005-03-03  105.99  106.20  105.15  105.61  71286823        0\n",
      "...          ...     ...     ...     ...     ...       ...      ...\n",
      "3196  2017-11-06  258.30  259.00  258.22  258.85  49529148        0\n",
      "3197  2017-11-07  258.97  259.35  258.11  258.67  57218448        0\n",
      "3198  2017-11-08  258.47  259.22  258.15  259.11  50277699        0\n",
      "3199  2017-11-09  257.73  258.39  256.36  258.17  94537282        0\n",
      "3200  2017-11-10  257.73  258.21  257.37  258.09  59862364        0\n",
      "\n",
      "[3201 rows x 7 columns]\n"
     ]
    }
   ],
   "source": [
    "hist=pd.read_csv(\"data/archive/ETFs/spy.us.txt\")\n",
    "print(hist)"
   ]
  },
  {
   "cell_type": "code",
   "execution_count": 44,
   "metadata": {},
   "outputs": [],
   "source": [
    "dates = np.array(hist['Date'], dtype=np.datetime64)\n",
    "source = ColumnDataSource(data=dict(date=dates, close=hist['Close']))\n",
    "\n",
    "p = figure(height=700, width=1900, tools=\"xpan\", toolbar_location=None,\n",
    "           x_axis_type=\"datetime\", x_axis_location=\"above\",\n",
    "           background_fill_color=\"#efefef\", x_range=(dates[1500], dates[2500]))\n",
    "\n",
    "p.line('date', 'close', source=source)\n",
    "p.yaxis.axis_label = 'Price'\n",
    "\n",
    "select = figure(title=\"Drag the middle and edges of the selection box to change the range above\",\n",
    "                height=200, width=1900, y_range=p.y_range,\n",
    "                x_axis_type=\"datetime\", y_axis_type=None,\n",
    "                tools=\"\", toolbar_location=None, background_fill_color=\"#efefef\")\n",
    "\n",
    "range_tool = RangeTool(x_range=p.x_range)\n",
    "range_tool.overlay.fill_color = \"navy\"\n",
    "range_tool.overlay.fill_alpha = 0.2\n",
    "\n",
    "select.line('date', 'close', source=source)\n",
    "select.ygrid.grid_line_color = None\n",
    "select.add_tools(range_tool)\n",
    "select.toolbar.active_multi = range_tool\n",
    "\n"
   ]
  },
  {
   "cell_type": "code",
   "execution_count": null,
   "metadata": {},
   "outputs": [],
   "source": [
    "def future_below_yr(years, data):\n",
    "    dataset_1 = \"%Y-%m-%d\"\n",
    "    now_i = 0\n",
    "    future_i = 0\n",
    "    if not data:\n",
    "        return\n",
    "\n",
    "    for each in data:\n",
    "        now = date.strptime(each['Date'], dataset_1)\n",
    "        future = now + td(days=365*years)\n",
    "        \n"
   ]
  },
  {
   "cell_type": "code",
   "execution_count": null,
   "metadata": {},
   "outputs": [],
   "source": [
    "show(column(p, select))"
   ]
  }
 ],
 "metadata": {
  "kernelspec": {
   "display_name": "finance",
   "language": "python",
   "name": "finance"
  },
  "language_info": {
   "codemirror_mode": {
    "name": "ipython",
    "version": 3
   },
   "file_extension": ".py",
   "mimetype": "text/x-python",
   "name": "python",
   "nbconvert_exporter": "python",
   "pygments_lexer": "ipython3",
   "version": "3.11.1"
  },
  "vscode": {
   "interpreter": {
    "hash": "36b50b0d6dffaaf59d01bb8cc2b46a125d99ac05d3d1be9557fbb5ec8bf00478"
   }
  }
 },
 "nbformat": 4,
 "nbformat_minor": 4
}

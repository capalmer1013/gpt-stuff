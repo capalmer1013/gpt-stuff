{
 "cells": [
  {
   "cell_type": "code",
   "execution_count": 1,
   "metadata": {},
   "outputs": [],
   "source": [
    "import pandas as pd\n",
    "import numpy as np\n",
    "\n",
    "from bokeh.layouts import column\n",
    "from bokeh.models import ColumnDataSource, RangeTool\n",
    "from bokeh.plotting import figure, show\n",
    "#from bokeh.sampledata.stocks import AAPL\n",
    "days_per_year = 52 * 5"
   ]
  },
  {
   "cell_type": "code",
   "execution_count": 2,
   "metadata": {},
   "outputs": [
    {
     "ename": "NameError",
     "evalue": "name 'hist' is not defined",
     "output_type": "error",
     "traceback": [
      "\u001b[0;31m---------------------------------------------------------------------------\u001b[0m",
      "\u001b[0;31mNameError\u001b[0m                                 Traceback (most recent call last)",
      "Cell \u001b[0;32mIn[2], line 1\u001b[0m\n\u001b[0;32m----> 1\u001b[0m dates \u001b[38;5;241m=\u001b[39m np\u001b[38;5;241m.\u001b[39marray(\u001b[43mhist\u001b[49m[\u001b[38;5;124m'\u001b[39m\u001b[38;5;124mDate\u001b[39m\u001b[38;5;124m'\u001b[39m], dtype\u001b[38;5;241m=\u001b[39mnp\u001b[38;5;241m.\u001b[39mdatetime64)\n\u001b[1;32m      2\u001b[0m date_close_lut \u001b[38;5;241m=\u001b[39m \u001b[38;5;28mdict\u001b[39m(date\u001b[38;5;241m=\u001b[39mdates, close\u001b[38;5;241m=\u001b[39mhist[\u001b[38;5;124m'\u001b[39m\u001b[38;5;124mClose\u001b[39m\u001b[38;5;124m'\u001b[39m])\n\u001b[1;32m      3\u001b[0m source \u001b[38;5;241m=\u001b[39m ColumnDataSource(data\u001b[38;5;241m=\u001b[39mdate_close_lut)\n",
      "\u001b[0;31mNameError\u001b[0m: name 'hist' is not defined"
     ]
    }
   ],
   "source": [
    "dates = np.array(hist['Date'], dtype=np.datetime64)\n",
    "date_close_lut = dict(date=dates, close=hist['Close'])\n",
    "source = ColumnDataSource(data=date_close_lut)\n",
    "\n",
    "p = figure(height=700, width=1900, tools=\"xpan\", toolbar_location=None,\n",
    "           x_axis_type=\"datetime\", x_axis_location=\"above\",\n",
    "           background_fill_color=\"#efefef\", x_range=(dates[1500], dates[2500]))\n",
    "\n",
    "p.line('date', 'close', source=source)\n",
    "p.yaxis.axis_label = 'Price'\n",
    "\n",
    "select = figure(\n",
    "    title=\"Drag the middle and edges of the selection box to change the range above\",\n",
    "    height=200,\n",
    "    width=1900,\n",
    "    y_range=p.y_range,\n",
    "    x_axis_type=\"datetime\",\n",
    "    y_axis_type=None,\n",
    "    tools=\"\",\n",
    "    toolbar_location=None,\n",
    "    background_fill_color=\"#efefef\"\n",
    ")\n",
    "\n",
    "range_tool = RangeTool(x_range=p.x_range)\n",
    "range_tool.overlay.fill_color = \"navy\"\n",
    "range_tool.overlay.fill_alpha = 0.2\n",
    "\n",
    "select.line('date', 'close', source=source)\n",
    "select.ygrid.grid_line_color = None\n",
    "select.add_tools(range_tool)\n",
    "select.toolbar.active_multi = range_tool\n",
    "\n"
   ]
  },
  {
   "cell_type": "code",
   "execution_count": null,
   "metadata": {},
   "outputs": [],
   "source": [
    "def future_below_yr(years, df):\n",
    "    dataset_1 = \"%Y-%m-%d\"\n",
    "    td = years * days_per_year\n",
    "    return pd.DataFrame({df['date'][i]:df['close'][i] for i in range(len(df)) if df['close'][i] < date_close_lut.get(df['date'][i] - np.timedelta64(td, 'D'))})\n",
    "    # return df[df['Close'] < date_close_lut.get(df['Date'] - np.timedelta64(td, 'D'), 0.0)]\n",
    "\n"
   ]
  },
  {
   "cell_type": "code",
   "execution_count": null,
   "metadata": {},
   "outputs": [],
   "source": [
    "# p.circle('date', 'close', source=future_below_yr(10, date_close_lut), size=200, color=\"navy\", alpha=0.5)\n",
    "print(type(hist))"
   ]
  },
  {
   "cell_type": "code",
   "execution_count": null,
   "metadata": {},
   "outputs": [],
   "source": [
    "show(column(p, select))"
   ]
  },
  {
   "cell_type": "code",
   "execution_count": null,
   "metadata": {},
   "outputs": [],
   "source": []
  },
  {
   "cell_type": "code",
   "execution_count": null,
   "metadata": {},
   "outputs": [],
   "source": []
  }
 ],
 "metadata": {
  "kernelspec": {
   "display_name": "finance",
   "language": "python",
   "name": "finance"
  },
  "language_info": {
   "codemirror_mode": {
    "name": "ipython",
    "version": 3
   },
   "file_extension": ".py",
   "mimetype": "text/x-python",
   "name": "python",
   "nbconvert_exporter": "python",
   "pygments_lexer": "ipython3",
   "version": "3.11.1"
  },
  "vscode": {
   "interpreter": {
    "hash": "36b50b0d6dffaaf59d01bb8cc2b46a125d99ac05d3d1be9557fbb5ec8bf00478"
   }
  }
 },
 "nbformat": 4,
 "nbformat_minor": 4
}
